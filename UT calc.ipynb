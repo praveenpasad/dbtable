{
 "cells": [
  {
   "cell_type": "code",
   "execution_count": null,
   "metadata": {
    "scrolled": true
   },
   "outputs": [],
   "source": [
    "#program to list out a dB table when a range is given\n",
    "\n",
    "print(\"Please enter the range for the dB table\")\n",
    "x = input('Start point')\n",
    "y = input('End value')\n",
    "\n",
    "a1 = int(x)\n",
    "y1 = int(y)\n",
    "\n",
    "\n",
    "\n",
    "for b in range(a1,y1):\n",
    "        c = 10**(b/20)\n",
    "        print(b,'dB','=', c)\n",
    "    \n",
    "\n",
    "\n",
    "\n"
   ]
  },
  {
   "cell_type": "code",
   "execution_count": null,
   "metadata": {},
   "outputs": [],
   "source": []
  }
 ],
 "metadata": {
  "kernelspec": {
   "display_name": "Python 3",
   "language": "python",
   "name": "python3"
  },
  "language_info": {
   "codemirror_mode": {
    "name": "ipython",
    "version": 3
   },
   "file_extension": ".py",
   "mimetype": "text/x-python",
   "name": "python",
   "nbconvert_exporter": "python",
   "pygments_lexer": "ipython3",
   "version": "3.7.1"
  }
 },
 "nbformat": 4,
 "nbformat_minor": 2
}
